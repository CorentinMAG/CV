{
  "nbformat": 4,
  "nbformat_minor": 0,
  "metadata": {
    "colab": {
      "name": "ML4CV_2_linear.ipynb",
      "provenance": [],
      "collapsed_sections": [],
      "include_colab_link": true
    },
    "kernelspec": {
      "name": "python3",
      "display_name": "Python 3"
    },
    "widgets": {
      "application/vnd.jupyter.widget-state+json": {
        "09f2f8eb2e334e709037a8e31045ec6f": {
          "model_module": "@jupyter-widgets/controls",
          "model_name": "HBoxModel",
          "state": {
            "_view_name": "HBoxView",
            "_dom_classes": [],
            "_model_name": "HBoxModel",
            "_view_module": "@jupyter-widgets/controls",
            "_model_module_version": "1.5.0",
            "_view_count": null,
            "_view_module_version": "1.5.0",
            "box_style": "",
            "layout": "IPY_MODEL_62c7ac6291fe4c82a062bc25c309d64b",
            "_model_module": "@jupyter-widgets/controls",
            "children": [
              "IPY_MODEL_3f981398a17e47809f4ff661734e9b1b",
              "IPY_MODEL_ffe69992ff3a4357a0eccc1aed5737c2"
            ]
          }
        },
        "62c7ac6291fe4c82a062bc25c309d64b": {
          "model_module": "@jupyter-widgets/base",
          "model_name": "LayoutModel",
          "state": {
            "_view_name": "LayoutView",
            "grid_template_rows": null,
            "right": null,
            "justify_content": null,
            "_view_module": "@jupyter-widgets/base",
            "overflow": null,
            "_model_module_version": "1.2.0",
            "_view_count": null,
            "flex_flow": null,
            "width": null,
            "min_width": null,
            "border": null,
            "align_items": null,
            "bottom": null,
            "_model_module": "@jupyter-widgets/base",
            "top": null,
            "grid_column": null,
            "overflow_y": null,
            "overflow_x": null,
            "grid_auto_flow": null,
            "grid_area": null,
            "grid_template_columns": null,
            "flex": null,
            "_model_name": "LayoutModel",
            "justify_items": null,
            "grid_row": null,
            "max_height": null,
            "align_content": null,
            "visibility": null,
            "align_self": null,
            "height": null,
            "min_height": null,
            "padding": null,
            "grid_auto_rows": null,
            "grid_gap": null,
            "max_width": null,
            "order": null,
            "_view_module_version": "1.2.0",
            "grid_template_areas": null,
            "object_position": null,
            "object_fit": null,
            "grid_auto_columns": null,
            "margin": null,
            "display": null,
            "left": null
          }
        },
        "3f981398a17e47809f4ff661734e9b1b": {
          "model_module": "@jupyter-widgets/controls",
          "model_name": "FloatProgressModel",
          "state": {
            "_view_name": "ProgressView",
            "style": "IPY_MODEL_015da11a8a2b4c6a98d3aff1e0fc6966",
            "_dom_classes": [],
            "description": "",
            "_model_name": "FloatProgressModel",
            "bar_style": "info",
            "max": 1,
            "_view_module": "@jupyter-widgets/controls",
            "_model_module_version": "1.5.0",
            "value": 1,
            "_view_count": null,
            "_view_module_version": "1.5.0",
            "orientation": "horizontal",
            "min": 0,
            "description_tooltip": null,
            "_model_module": "@jupyter-widgets/controls",
            "layout": "IPY_MODEL_358bdfcc72384b719c87d87d2ac89793"
          }
        },
        "ffe69992ff3a4357a0eccc1aed5737c2": {
          "model_module": "@jupyter-widgets/controls",
          "model_name": "HTMLModel",
          "state": {
            "_view_name": "HTMLView",
            "style": "IPY_MODEL_60140d5e258c458abc89ed84d1cb0c0a",
            "_dom_classes": [],
            "description": "",
            "_model_name": "HTMLModel",
            "placeholder": "​",
            "_view_module": "@jupyter-widgets/controls",
            "_model_module_version": "1.5.0",
            "value": " 170500096/? [00:30&lt;00:00, 16939815.61it/s]",
            "_view_count": null,
            "_view_module_version": "1.5.0",
            "description_tooltip": null,
            "_model_module": "@jupyter-widgets/controls",
            "layout": "IPY_MODEL_6a43f6cee5f34ae4b82fab577760c88f"
          }
        },
        "015da11a8a2b4c6a98d3aff1e0fc6966": {
          "model_module": "@jupyter-widgets/controls",
          "model_name": "ProgressStyleModel",
          "state": {
            "_view_name": "StyleView",
            "_model_name": "ProgressStyleModel",
            "description_width": "initial",
            "_view_module": "@jupyter-widgets/base",
            "_model_module_version": "1.5.0",
            "_view_count": null,
            "_view_module_version": "1.2.0",
            "bar_color": null,
            "_model_module": "@jupyter-widgets/controls"
          }
        },
        "358bdfcc72384b719c87d87d2ac89793": {
          "model_module": "@jupyter-widgets/base",
          "model_name": "LayoutModel",
          "state": {
            "_view_name": "LayoutView",
            "grid_template_rows": null,
            "right": null,
            "justify_content": null,
            "_view_module": "@jupyter-widgets/base",
            "overflow": null,
            "_model_module_version": "1.2.0",
            "_view_count": null,
            "flex_flow": null,
            "width": null,
            "min_width": null,
            "border": null,
            "align_items": null,
            "bottom": null,
            "_model_module": "@jupyter-widgets/base",
            "top": null,
            "grid_column": null,
            "overflow_y": null,
            "overflow_x": null,
            "grid_auto_flow": null,
            "grid_area": null,
            "grid_template_columns": null,
            "flex": null,
            "_model_name": "LayoutModel",
            "justify_items": null,
            "grid_row": null,
            "max_height": null,
            "align_content": null,
            "visibility": null,
            "align_self": null,
            "height": null,
            "min_height": null,
            "padding": null,
            "grid_auto_rows": null,
            "grid_gap": null,
            "max_width": null,
            "order": null,
            "_view_module_version": "1.2.0",
            "grid_template_areas": null,
            "object_position": null,
            "object_fit": null,
            "grid_auto_columns": null,
            "margin": null,
            "display": null,
            "left": null
          }
        },
        "60140d5e258c458abc89ed84d1cb0c0a": {
          "model_module": "@jupyter-widgets/controls",
          "model_name": "DescriptionStyleModel",
          "state": {
            "_view_name": "StyleView",
            "_model_name": "DescriptionStyleModel",
            "description_width": "",
            "_view_module": "@jupyter-widgets/base",
            "_model_module_version": "1.5.0",
            "_view_count": null,
            "_view_module_version": "1.2.0",
            "_model_module": "@jupyter-widgets/controls"
          }
        },
        "6a43f6cee5f34ae4b82fab577760c88f": {
          "model_module": "@jupyter-widgets/base",
          "model_name": "LayoutModel",
          "state": {
            "_view_name": "LayoutView",
            "grid_template_rows": null,
            "right": null,
            "justify_content": null,
            "_view_module": "@jupyter-widgets/base",
            "overflow": null,
            "_model_module_version": "1.2.0",
            "_view_count": null,
            "flex_flow": null,
            "width": null,
            "min_width": null,
            "border": null,
            "align_items": null,
            "bottom": null,
            "_model_module": "@jupyter-widgets/base",
            "top": null,
            "grid_column": null,
            "overflow_y": null,
            "overflow_x": null,
            "grid_auto_flow": null,
            "grid_area": null,
            "grid_template_columns": null,
            "flex": null,
            "_model_name": "LayoutModel",
            "justify_items": null,
            "grid_row": null,
            "max_height": null,
            "align_content": null,
            "visibility": null,
            "align_self": null,
            "height": null,
            "min_height": null,
            "padding": null,
            "grid_auto_rows": null,
            "grid_gap": null,
            "max_width": null,
            "order": null,
            "_view_module_version": "1.2.0",
            "grid_template_areas": null,
            "object_position": null,
            "object_fit": null,
            "grid_auto_columns": null,
            "margin": null,
            "display": null,
            "left": null
          }
        }
      }
    }
  },
  "cells": [
    {
      "cell_type": "markdown",
      "metadata": {
        "id": "view-in-github",
        "colab_type": "text"
      },
      "source": [
        "<a href=\"https://colab.research.google.com/github/CorentinMAG/CV/blob/main/ML4CV_2_linear.ipynb\" target=\"_parent\"><img src=\"https://colab.research.google.com/assets/colab-badge.svg\" alt=\"Open In Colab\"/></a>"
      ]
    },
    {
      "cell_type": "markdown",
      "metadata": {
        "id": "6T-wi1G7PYd0"
      },
      "source": [
        "Let's start with the usual imports."
      ]
    },
    {
      "cell_type": "code",
      "metadata": {
        "id": "ayc4LryC3niq"
      },
      "source": [
        "import torch\n",
        "import torchvision\n",
        "import torchvision.transforms as transforms\n",
        "from torch.utils.data import random_split, DataLoader, TensorDataset\n",
        "import torch.nn.functional as F\n",
        "import matplotlib.pyplot as plt\n",
        "import numpy as np\n",
        "import math\n",
        "from timeit import default_timer as timer\n",
        "\n",
        "plt.rcParams['figure.figsize'] = (10.0, 8.0)\n",
        "plt.rcParams['font.size'] = 16"
      ],
      "execution_count": null,
      "outputs": []
    },
    {
      "cell_type": "markdown",
      "metadata": {
        "id": "nZILMI8Osfg3"
      },
      "source": [
        "Let's grab CIFAR-10, split it into train, valid and test set, and flatten the images to create feature matrices. \n",
        "\n",
        "This is the same code we used for k-nn classification."
      ]
    },
    {
      "cell_type": "code",
      "metadata": {
        "id": "WRWo0Mqb3vNX",
        "outputId": "d0447f0f-5696-4969-c80e-0986b55aa286",
        "colab": {
          "base_uri": "https://localhost:8080/",
          "height": 190,
          "referenced_widgets": [
            "09f2f8eb2e334e709037a8e31045ec6f",
            "62c7ac6291fe4c82a062bc25c309d64b",
            "3f981398a17e47809f4ff661734e9b1b",
            "ffe69992ff3a4357a0eccc1aed5737c2",
            "015da11a8a2b4c6a98d3aff1e0fc6966",
            "358bdfcc72384b719c87d87d2ac89793",
            "60140d5e258c458abc89ed84d1cb0c0a",
            "6a43f6cee5f34ae4b82fab577760c88f"
          ]
        }
      },
      "source": [
        "num_classes = 10\n",
        "classes = ('plane', 'car', 'bird', 'cat',\n",
        "           'deer', 'dog', 'frog', 'horse', 'ship', 'truck')\n",
        "\n",
        "train_ds = torchvision.datasets.CIFAR10(root=\"/data/\", train=True, transform=transforms.ToTensor(), download=True)\n",
        "test_ds = torchvision.datasets.CIFAR10(root=\"/data/\", train=False, transform=transforms.ToTensor())\n",
        "\n",
        "train_ds"
      ],
      "execution_count": null,
      "outputs": [
        {
          "output_type": "stream",
          "text": [
            "Downloading https://www.cs.toronto.edu/~kriz/cifar-10-python.tar.gz to /data/cifar-10-python.tar.gz\n"
          ],
          "name": "stdout"
        },
        {
          "output_type": "display_data",
          "data": {
            "application/vnd.jupyter.widget-view+json": {
              "model_id": "09f2f8eb2e334e709037a8e31045ec6f",
              "version_minor": 0,
              "version_major": 2
            },
            "text/plain": [
              "HBox(children=(FloatProgress(value=1.0, bar_style='info', max=1.0), HTML(value='')))"
            ]
          },
          "metadata": {
            "tags": []
          }
        },
        {
          "output_type": "stream",
          "text": [
            "Extracting /data/cifar-10-python.tar.gz to /data/\n"
          ],
          "name": "stdout"
        },
        {
          "output_type": "execute_result",
          "data": {
            "text/plain": [
              "Dataset CIFAR10\n",
              "    Number of datapoints: 50000\n",
              "    Root location: /data/\n",
              "    Split: Train\n",
              "    StandardTransform\n",
              "Transform: ToTensor()"
            ]
          },
          "metadata": {
            "tags": []
          },
          "execution_count": 2
        }
      ]
    },
    {
      "cell_type": "code",
      "metadata": {
        "id": "46_gsJId4FZh"
      },
      "source": [
        "splitted_datasets = torch.utils.data.random_split(train_ds, [45000, 5000])\n",
        "actual_train_subds = splitted_datasets[0]\n",
        "valid_subds = splitted_datasets[1]"
      ],
      "execution_count": null,
      "outputs": []
    },
    {
      "cell_type": "code",
      "metadata": {
        "id": "I-eVWj0V4OqW",
        "outputId": "bf8ba1e2-a6a6-4b21-f448-963c8f99e4b1",
        "colab": {
          "base_uri": "https://localhost:8080/",
          "height": 35
        }
      },
      "source": [
        "def dataset_to_matrix(dset, limit=None):\n",
        "  x = torch.tensor(dset.data, dtype=torch.float32).permute(0, 3, 1, 2).div_(255)\n",
        "  x = x.reshape((x.shape[0], -1))\n",
        "  y = torch.tensor(dset.targets, dtype=torch.int64)\n",
        "  if limit is not None:\n",
        "    if limit <= 0 or limit > x.shape[0]:\n",
        "      raise ValueError(f'Invalid value limit={limit}; must be in the range [0, {x.shape[0]}]')\n",
        "    x = x[:limit].clone()\n",
        "    y = y[:limit].clone()\n",
        "  return x, y\n",
        "\n",
        "def subset_to_matrix(dset, limit=None):\n",
        "  x = torch.tensor(dset.dataset.data[dset.indices,], dtype=torch.float32).permute(0, 3, 1, 2).div_(255)\n",
        "  x = x.reshape((x.shape[0], -1))\n",
        "  y = torch.tensor(np.array(dset.dataset.targets)[dset.indices], dtype=torch.int64)\n",
        "  if limit is not None:\n",
        "    if limit <= 0 or limit > x.shape[0]:\n",
        "      raise ValueError(f'Invalid value limit={limit}; must be in the range [0, {x.shape[0]}]')\n",
        "    x = x[:limit].clone()\n",
        "    y = y[:limit].clone()\n",
        "  return x, y\n",
        "  \n",
        "small_train_features, small_train_labels = subset_to_matrix(actual_train_subds, 500)\n",
        "small_valid_features, small_valid_labels = subset_to_matrix(valid_subds, 100)\n",
        "small_test_features, small_test_labels = dataset_to_matrix(test_ds, 100)\n",
        "small_train_features.shape"
      ],
      "execution_count": null,
      "outputs": [
        {
          "output_type": "execute_result",
          "data": {
            "text/plain": [
              "torch.Size([500, 3072])"
            ]
          },
          "metadata": {
            "tags": []
          },
          "execution_count": 4
        }
      ]
    },
    {
      "cell_type": "markdown",
      "metadata": {
        "id": "aGE86XNVs8aG"
      },
      "source": [
        "Let's create two random matrices of the appropriate sizes to store the weights and biases. We will initialize `W` with values sampled from the standard Gaussian (i.e. $\\mu$=0 and $\\sigma$=1), while we will start from 0 for the biases."
      ]
    },
    {
      "cell_type": "code",
      "metadata": {
        "id": "NI3tlWO64Rl_",
        "outputId": "b17418f8-ca88-4ef9-8877-84b3127f3cd9",
        "colab": {
          "base_uri": "https://localhost:8080/",
          "height": 176
        }
      },
      "source": [
        "def init():\n",
        "  W = torch.randn((small_train_features.shape[1], len(classes)))\n",
        "  b = torch.zeros((len(classes)))\n",
        "  return W, b\n",
        "\n",
        "W, b = init()\n",
        "print(W.shape, b.shape)\n",
        "W, b"
      ],
      "execution_count": null,
      "outputs": [
        {
          "output_type": "stream",
          "text": [
            "torch.Size([3072, 10]) torch.Size([10])\n"
          ],
          "name": "stdout"
        },
        {
          "output_type": "execute_result",
          "data": {
            "text/plain": [
              "(tensor([[ 1.4103,  0.6194, -0.4598,  ..., -0.1235,  1.3348,  0.8593],\n",
              "         [ 0.6198,  0.1191,  0.1098,  ..., -0.3327, -1.3806,  0.1351],\n",
              "         [-0.3799, -0.7817, -0.5622,  ..., -1.0436,  0.9549,  0.0224],\n",
              "         ...,\n",
              "         [-1.8045,  0.2774, -1.8392,  ...,  0.3748, -0.2027, -0.0292],\n",
              "         [ 0.2892, -1.6790,  0.9538,  ...,  0.8514,  0.2507, -0.1369],\n",
              "         [ 0.6199,  0.7372, -0.7603,  ...,  0.2251, -0.3153, -1.0550]]),\n",
              " tensor([0., 0., 0., 0., 0., 0., 0., 0., 0., 0.]))"
            ]
          },
          "metadata": {
            "tags": []
          },
          "execution_count": 5
        }
      ]
    },
    {
      "cell_type": "markdown",
      "metadata": {
        "id": "QR-fo-rvtwmW"
      },
      "source": [
        "We can then define our linear classifier. To multiply matrices stored into PyTorch tensors we use the `torch.matmul` function. Note that, since we have as input a matrix with num_samples $\\times$ num_features, we actually compute x $\\times$ W, not W $\\times$ x as assumed in the slides.\n",
        "\n",
        "We immediately verify that the shape of its output make sense and that we can apply it not only to one image, but to a set of examples stored into our feature matrix. If the size of the input is num_sample $\\times$ D, the output will have size num_samples $\\times$ classes."
      ]
    },
    {
      "cell_type": "code",
      "metadata": {
        "id": "HqA_PMAS7Hrv",
        "outputId": "3a40d430-79b4-4b02-94c4-d04c6e3823f8",
        "colab": {
          "base_uri": "https://localhost:8080/",
          "height": 88
        }
      },
      "source": [
        "def linear_classifier(x, W, b):\n",
        "  return torch.matmul(x, W) + b\n",
        "\n",
        "scores = linear_classifier(small_train_features[0:2,:], W, b)\n",
        "print(scores.shape, scores)"
      ],
      "execution_count": null,
      "outputs": [
        {
          "output_type": "stream",
          "text": [
            "torch.Size([2, 10]) tensor([[-29.8983, -21.1509,  32.6900,  -4.8978, -45.7986,   3.1155, -78.2315,\n",
            "           1.0151,  23.7017,  80.2408],\n",
            "        [-43.8543, -14.1994,  44.5354,  10.5250, -44.2320, -34.9185, -37.6748,\n",
            "          20.7777,  41.2456,  71.5485]])\n"
          ],
          "name": "stdout"
        }
      ]
    },
    {
      "cell_type": "markdown",
      "metadata": {
        "id": "rkBcY3c8u7tl"
      },
      "source": [
        "Instead of writing the cross entropy loss from scratch, let's use Pytorch one. It's an opportunity to get to know the framework. In particular, useful functions related to (neural network) training, are available in the `torch.nn.functional` package, which we imported as `F` in the first cell.\n",
        "\n",
        "Let's check the function documentation by using the `help` function."
      ]
    },
    {
      "cell_type": "code",
      "metadata": {
        "id": "P3cRAxuJ7syN",
        "outputId": "0b591ab4-3ca4-4d03-a69e-ed00b8816e25",
        "colab": {
          "base_uri": "https://localhost:8080/",
          "height": 776
        }
      },
      "source": [
        "help(F.cross_entropy)"
      ],
      "execution_count": null,
      "outputs": [
        {
          "output_type": "stream",
          "text": [
            "Help on function cross_entropy in module torch.nn.functional:\n",
            "\n",
            "cross_entropy(input, target, weight=None, size_average=None, ignore_index=-100, reduce=None, reduction='mean')\n",
            "    This criterion combines `log_softmax` and `nll_loss` in a single\n",
            "    function.\n",
            "    \n",
            "    See :class:`~torch.nn.CrossEntropyLoss` for details.\n",
            "    \n",
            "    Args:\n",
            "        input (Tensor) : :math:`(N, C)` where `C = number of classes` or :math:`(N, C, H, W)`\n",
            "            in case of 2D Loss, or :math:`(N, C, d_1, d_2, ..., d_K)` where :math:`K \\geq 1`\n",
            "            in the case of K-dimensional loss.\n",
            "        target (Tensor) : :math:`(N)` where each value is :math:`0 \\leq \\text{targets}[i] \\leq C-1`,\n",
            "            or :math:`(N, d_1, d_2, ..., d_K)` where :math:`K \\geq 1` for\n",
            "            K-dimensional loss.\n",
            "        weight (Tensor, optional): a manual rescaling weight given to each\n",
            "            class. If given, has to be a Tensor of size `C`\n",
            "        size_average (bool, optional): Deprecated (see :attr:`reduction`). By default,\n",
            "            the losses are averaged over each loss element in the batch. Note that for\n",
            "            some losses, there multiple elements per sample. If the field :attr:`size_average`\n",
            "            is set to ``False``, the losses are instead summed for each minibatch. Ignored\n",
            "            when reduce is ``False``. Default: ``True``\n",
            "        ignore_index (int, optional): Specifies a target value that is ignored\n",
            "            and does not contribute to the input gradient. When :attr:`size_average` is\n",
            "            ``True``, the loss is averaged over non-ignored targets. Default: -100\n",
            "        reduce (bool, optional): Deprecated (see :attr:`reduction`). By default, the\n",
            "            losses are averaged or summed over observations for each minibatch depending\n",
            "            on :attr:`size_average`. When :attr:`reduce` is ``False``, returns a loss per\n",
            "            batch element instead and ignores :attr:`size_average`. Default: ``True``\n",
            "        reduction (string, optional): Specifies the reduction to apply to the output:\n",
            "            ``'none'`` | ``'mean'`` | ``'sum'``. ``'none'``: no reduction will be applied,\n",
            "            ``'mean'``: the sum of the output will be divided by the number of\n",
            "            elements in the output, ``'sum'``: the output will be summed. Note: :attr:`size_average`\n",
            "            and :attr:`reduce` are in the process of being deprecated, and in the meantime,\n",
            "            specifying either of those two args will override :attr:`reduction`. Default: ``'mean'``\n",
            "    \n",
            "    Examples::\n",
            "    \n",
            "        >>> input = torch.randn(3, 5, requires_grad=True)\n",
            "        >>> target = torch.randint(5, (3,), dtype=torch.int64)\n",
            "        >>> loss = F.cross_entropy(input, target)\n",
            "        >>> loss.backward()\n",
            "\n"
          ],
          "name": "stdout"
        }
      ]
    },
    {
      "cell_type": "markdown",
      "metadata": {
        "id": "AG_NjnMevkl5"
      },
      "source": [
        "The important part is the shape of its input arguments. Scores (aka `input`) must be **num_samples $ \\times $ classes**, while targets must be a 1D vector of length **num_samples**. Note this is not the one-hot encoding of the labels, but the labels themselves.\n",
        "\n",
        "Let's check what is the shape of the labels and of the scores we have."
      ]
    },
    {
      "cell_type": "code",
      "metadata": {
        "id": "wQl41CcQ8Yk-",
        "outputId": "9482961a-c1c0-48d7-e81d-bb650c9fb5c7",
        "colab": {
          "base_uri": "https://localhost:8080/",
          "height": 35
        }
      },
      "source": [
        "small_train_labels.shape"
      ],
      "execution_count": null,
      "outputs": [
        {
          "output_type": "execute_result",
          "data": {
            "text/plain": [
              "torch.Size([500])"
            ]
          },
          "metadata": {
            "tags": []
          },
          "execution_count": 8
        }
      ]
    },
    {
      "cell_type": "code",
      "metadata": {
        "id": "RqAIerOW9D-w",
        "outputId": "3da78d77-900b-48a7-b72e-67dffd5ac2bf",
        "colab": {
          "base_uri": "https://localhost:8080/",
          "height": 35
        }
      },
      "source": [
        "scores = linear_classifier(small_train_features, W, b)\n",
        "scores.shape"
      ],
      "execution_count": null,
      "outputs": [
        {
          "output_type": "execute_result",
          "data": {
            "text/plain": [
              "torch.Size([500, 10])"
            ]
          },
          "metadata": {
            "tags": []
          },
          "execution_count": 9
        }
      ]
    },
    {
      "cell_type": "markdown",
      "metadata": {
        "id": "c1rRR5uPwkTb"
      },
      "source": [
        "Looks good! They match what cross_entropy expects. We can run it."
      ]
    },
    {
      "cell_type": "code",
      "metadata": {
        "id": "guguTQDDwwT1",
        "outputId": "aa58d832-557a-46b6-9ccc-e4d109ae94d7",
        "colab": {
          "base_uri": "https://localhost:8080/",
          "height": 35
        }
      },
      "source": [
        "loss = F.cross_entropy(scores, small_train_labels)\n",
        "loss"
      ],
      "execution_count": null,
      "outputs": [
        {
          "output_type": "execute_result",
          "data": {
            "text/plain": [
              "tensor(51.7041)"
            ]
          },
          "metadata": {
            "tags": []
          },
          "execution_count": 10
        }
      ]
    },
    {
      "cell_type": "markdown",
      "metadata": {
        "id": "ImMNWHavw0Ih"
      },
      "source": [
        "Good! It runs without errors. Are we happy? No. Why? That's a suspiciously high value for the loss of a randomly initialized classifier...\n",
        "\n",
        "With random weights, we would expect an almost uniform probability over the classes, which results in a value for the loss $\\simeq -\\log(\\frac{1}{C}) = \\log(C)$, which for CIFAR10 should be $\\simeq 2.3$. What's going on?\n",
        "\n",
        "Let's check if PyTorch is computing what we expect. Let's look at the first incorrectly classified image. What's the value of the scores?"
      ]
    },
    {
      "cell_type": "code",
      "metadata": {
        "id": "qObAgL6z-3_q",
        "outputId": "ee64dcb4-ae92-4214-987b-78fecbb33070",
        "colab": {
          "base_uri": "https://localhost:8080/",
          "height": 35
        }
      },
      "source": [
        "def first_misclassified_sample_index(scores, labels):\n",
        "  return torch.nonzero(torch.argmax(scores, dim=1) != labels, as_tuple=False)[0].item()\n",
        "first_misclassified_index = first_misclassified_sample_index(scores, small_train_labels)\n",
        "first_misclassified_index"
      ],
      "execution_count": null,
      "outputs": [
        {
          "output_type": "execute_result",
          "data": {
            "text/plain": [
              "0"
            ]
          },
          "metadata": {
            "tags": []
          },
          "execution_count": 11
        }
      ]
    },
    {
      "cell_type": "code",
      "metadata": {
        "id": "cu7Dhd45TzIh",
        "outputId": "35829ab0-6fc0-45b5-ac4e-9f1423e4b621",
        "colab": {
          "base_uri": "https://localhost:8080/",
          "height": 52
        }
      },
      "source": [
        "first_misclassified_scores = scores[first_misclassified_index,:]\n",
        "first_misclassified_scores"
      ],
      "execution_count": null,
      "outputs": [
        {
          "output_type": "execute_result",
          "data": {
            "text/plain": [
              "tensor([-29.8984, -21.1509,  32.6900,  -4.8978, -45.7986,   3.1155, -78.2315,\n",
              "          1.0152,  23.7017,  80.2408])"
            ]
          },
          "metadata": {
            "tags": []
          },
          "execution_count": 12
        }
      ]
    },
    {
      "cell_type": "markdown",
      "metadata": {
        "id": "yqeA6C7YyP9A"
      },
      "source": [
        "The log likelihood uses only the score of the true label, let's grab it. Notice we can use the method `item()` to retrieve the value inside a tensor which has 0 dimensions (i.e. a scalar)."
      ]
    },
    {
      "cell_type": "code",
      "metadata": {
        "id": "U1jXIYa2_K1-",
        "outputId": "99e7e87a-fee9-4e6e-8338-d0b42fb84788",
        "colab": {
          "base_uri": "https://localhost:8080/",
          "height": 35
        }
      },
      "source": [
        "first_misclassified_scores_yi = first_misclassified_scores[small_train_labels[first_misclassified_index]].item()\n",
        "first_misclassified_scores_yi"
      ],
      "execution_count": null,
      "outputs": [
        {
          "output_type": "execute_result",
          "data": {
            "text/plain": [
              "-29.898353576660156"
            ]
          },
          "metadata": {
            "tags": []
          },
          "execution_count": 13
        }
      ]
    },
    {
      "cell_type": "markdown",
      "metadata": {
        "id": "QaykTRhlyq5p"
      },
      "source": [
        "If you check in the slides, you can see that we derive an expression for the cross-entropy loss that involves this score and the `logsumexp` of all the scores. Hence we can compute the value we expect for the loss as follows."
      ]
    },
    {
      "cell_type": "code",
      "metadata": {
        "id": "esQQmz0q_g8k",
        "outputId": "17053164-83bc-43fd-8c12-a605ba7df8f6",
        "colab": {
          "base_uri": "https://localhost:8080/",
          "height": 35
        }
      },
      "source": [
        "lse = torch.logsumexp(first_misclassified_scores, 0).item()\n",
        "-first_misclassified_scores_yi+lse"
      ],
      "execution_count": null,
      "outputs": [
        {
          "output_type": "execute_result",
          "data": {
            "text/plain": [
              "110.13919067382812"
            ]
          },
          "metadata": {
            "tags": []
          },
          "execution_count": 14
        }
      ]
    },
    {
      "cell_type": "markdown",
      "metadata": {
        "id": "qwMBGu11zgSx"
      },
      "source": [
        "Let's see what PyTorch returns if we apply the loss only to the first wrongly predicted item. Since the function is designed to work on batch of data, we have do adjust shapes to make it work on just one example, that's why we reshape scores and labels after having selected the row we care about."
      ]
    },
    {
      "cell_type": "code",
      "metadata": {
        "id": "Unj_pqOh1DbJ",
        "outputId": "ae9dc6be-2ccb-43fc-d2f3-84305fa13d0c",
        "colab": {
          "base_uri": "https://localhost:8080/",
          "height": 35
        }
      },
      "source": [
        "F.cross_entropy(first_misclassified_scores.reshape(1,-1), small_train_labels[first_misclassified_index].reshape(1)).item()"
      ],
      "execution_count": null,
      "outputs": [
        {
          "output_type": "execute_result",
          "data": {
            "text/plain": [
              "110.13919067382812"
            ]
          },
          "metadata": {
            "tags": []
          },
          "execution_count": 15
        }
      ]
    },
    {
      "cell_type": "markdown",
      "metadata": {
        "id": "UKqO0nO91T-X"
      },
      "source": [
        "Looks PyTorch is doing what we expect (and we also validated we are calling the function correctly).\n",
        "\n",
        "Let's see what is the accuracy of our randomly initialized model."
      ]
    },
    {
      "cell_type": "code",
      "metadata": {
        "id": "t56-Asu9llNe",
        "outputId": "a5764440-5b16-4fb3-9b7a-50ecf9d00467",
        "colab": {
          "base_uri": "https://localhost:8080/",
          "height": 35
        }
      },
      "source": [
        "def accuracy(scores, y):\n",
        "  y_hat = torch.argmax(scores, 1)\n",
        "  correct = (y_hat==y).sum()\n",
        "  return correct.true_divide(y.shape[0])\n",
        "\n",
        "accuracy(scores, small_train_labels)"
      ],
      "execution_count": null,
      "outputs": [
        {
          "output_type": "execute_result",
          "data": {
            "text/plain": [
              "tensor(0.1040)"
            ]
          },
          "metadata": {
            "tags": []
          },
          "execution_count": 16
        }
      ]
    },
    {
      "cell_type": "markdown",
      "metadata": {
        "id": "E3xVdXAZ4grO"
      },
      "source": [
        "At least that's reasonable! We expect about 10% accuracy for a randomly initialized model. Well, then, let's ignore the loss problem for know (you shouldn't ignore it when working on your projects!) and go on.\n",
        "\n",
        "We have the model and we have initialized its parameters. To train it with gradient descent, we need to compute the gradient of the loss with respect to the parameters. To do it, we will use automatic differentiation, which you can invoke on a tensor, usually on the one storing the loss value, by calling `backward()`."
      ]
    },
    {
      "cell_type": "code",
      "metadata": {
        "id": "a2mtoObU3JXm"
      },
      "source": [
        "# Uncomment to see the error\n",
        "# loss.backward()"
      ],
      "execution_count": null,
      "outputs": []
    },
    {
      "cell_type": "markdown",
      "metadata": {
        "id": "DxlT26dI3IuR"
      },
      "source": [
        "Ops... What's the cause of this error?\n",
        "\n",
        "To have Pytorch do all the work for us, we have to tell it which tensors are the parameters! More precisely, we need to tell PyTorch which gradients it should compute, by calling the function `requires_grad_` on the tensors storing the parameters. PyTorch convention: if a function ends with _ (underscore) it modifies the tensor it is called on **in-place**, i.e. it does not create a copy and does not return a new tensor."
      ]
    },
    {
      "cell_type": "code",
      "metadata": {
        "id": "IP9f_Caj2sne",
        "outputId": "22040788-3901-4c41-fb0e-632d82b1529f",
        "colab": {
          "base_uri": "https://localhost:8080/",
          "height": 35
        }
      },
      "source": [
        "W.requires_grad_(True)\n",
        "b.requires_grad_(True)\n",
        "b"
      ],
      "execution_count": null,
      "outputs": [
        {
          "output_type": "execute_result",
          "data": {
            "text/plain": [
              "tensor([0., 0., 0., 0., 0., 0., 0., 0., 0., 0.], requires_grad=True)"
            ]
          },
          "metadata": {
            "tags": []
          },
          "execution_count": 18
        }
      ]
    },
    {
      "cell_type": "markdown",
      "metadata": {
        "id": "KEQGRa482vpV"
      },
      "source": [
        "You can see that by printing `b`, we now get a tensor with the field `requires_grad=True`.\n",
        "\n",
        "Let's see if now we can use `backward`. Since we modified `W` and `b`, we must re-run also the forward pass, i.e. call `linear_classifier` on the training data."
      ]
    },
    {
      "cell_type": "code",
      "metadata": {
        "id": "eyrAcG_TAnDe"
      },
      "source": [
        "\n",
        "scores = linear_classifier(small_train_features, W, b)\n",
        "loss = F.cross_entropy(scores, small_train_labels)\n",
        "loss.backward()"
      ],
      "execution_count": null,
      "outputs": []
    },
    {
      "cell_type": "markdown",
      "metadata": {
        "id": "opFJgDhc4PBn"
      },
      "source": [
        "It works! But where are the gradients? \n",
        "\n",
        "They are stored in the attribute `grad` of each tensor for which we required them."
      ]
    },
    {
      "cell_type": "code",
      "metadata": {
        "id": "hNnedv2x4E_g",
        "outputId": "899f3728-aac0-454a-8dd7-f7ea6cf01b34",
        "colab": {
          "base_uri": "https://localhost:8080/",
          "height": 88
        }
      },
      "source": [
        "W.grad.shape, b.grad.shape, b.grad"
      ],
      "execution_count": null,
      "outputs": [
        {
          "output_type": "execute_result",
          "data": {
            "text/plain": [
              "(torch.Size([3072, 10]),\n",
              " torch.Size([10]),\n",
              " tensor([-0.0800, -0.0800,  0.0083, -0.1078, -0.1060, -0.1218, -0.0760, -0.0890,\n",
              "         -0.1045,  0.7567]))"
            ]
          },
          "metadata": {
            "tags": []
          },
          "execution_count": 20
        }
      ]
    },
    {
      "cell_type": "markdown",
      "metadata": {
        "id": "V7yzVYuG44hE"
      },
      "source": [
        "Great! Now we can put everything together and write the main loop that performs gradient descent. In your training loop it is very important to **remember to zero the gradients** after you have used them, otherwise subsequent calls to `backward` will keep accumulating them (and your model may even train correctly for a while...)."
      ]
    },
    {
      "cell_type": "code",
      "metadata": {
        "id": "D27PDgBcALHj",
        "outputId": "d4017f26-e119-4019-b861-83efdb3a207f",
        "colab": {
          "base_uri": "https://localhost:8080/",
          "height": 194
        }
      },
      "source": [
        "# let's first esare the gradient we just computed \n",
        "with torch.no_grad():\n",
        "  W.grad.zero_()\n",
        "  b.grad.zero_()\n",
        "\n",
        "epochs = 100\n",
        "lr = 1e-3\n",
        "\n",
        "for e in range(epochs):\n",
        "  #forward pass\n",
        "  scores = linear_classifier(small_train_features, W, b)\n",
        "  loss = F.cross_entropy(scores, small_train_labels)\n",
        "  #backward pass\n",
        "  loss.backward()\n",
        "  # compute training metrics\n",
        "  acc = accuracy(scores, small_train_labels).item()\n",
        "  \n",
        "\n",
        "  with torch.no_grad():\n",
        "    # compute validation loss and metrics\n",
        "    valid_scores = linear_classifier(small_valid_features, W, b)\n",
        "    valid_loss = F.cross_entropy(valid_scores, small_valid_labels).item()\n",
        "    valid_acc = accuracy(valid_scores, small_valid_labels).item()\n",
        "  \n",
        "    #update parameters\n",
        "    W -= lr * W.grad\n",
        "    b -= lr * b.grad\n",
        "\n",
        "    #zero the gradients, VERY IMPORTANT!\n",
        "    W.grad.zero_()\n",
        "    b.grad.zero_()\n",
        "  \n",
        "  if e % 10 == 0:\n",
        "    print(f\"Epoch {e}: train loss {loss:.3f} - train acc {acc:.3f} - valid loss {valid_loss:.3f} - valid acc {valid_acc:.3f}\")\n"
      ],
      "execution_count": null,
      "outputs": [
        {
          "output_type": "stream",
          "text": [
            "Epoch 0: train loss 51.704 - train acc 0.104 - valid loss 51.934 - valid acc 0.120\n",
            "Epoch 10: train loss 47.467 - train acc 0.104 - valid loss 47.528 - valid acc 0.110\n",
            "Epoch 20: train loss 43.873 - train acc 0.102 - valid loss 43.744 - valid acc 0.090\n",
            "Epoch 30: train loss 40.803 - train acc 0.104 - valid loss 40.551 - valid acc 0.110\n",
            "Epoch 40: train loss 38.212 - train acc 0.118 - valid loss 37.919 - valid acc 0.110\n",
            "Epoch 50: train loss 35.992 - train acc 0.120 - valid loss 35.629 - valid acc 0.120\n",
            "Epoch 60: train loss 34.064 - train acc 0.122 - valid loss 33.649 - valid acc 0.110\n",
            "Epoch 70: train loss 32.408 - train acc 0.136 - valid loss 31.951 - valid acc 0.120\n",
            "Epoch 80: train loss 30.947 - train acc 0.126 - valid loss 30.460 - valid acc 0.120\n",
            "Epoch 90: train loss 29.612 - train acc 0.120 - valid loss 29.107 - valid acc 0.140\n"
          ],
          "name": "stdout"
        }
      ]
    },
    {
      "cell_type": "markdown",
      "metadata": {
        "id": "MyANN_S9K6gz"
      },
      "source": [
        "Training loss is still very high and the accuracy oscillates around the random guessing value of 0.1. \n",
        "\n",
        "Let's check if the first misclassified example has improved."
      ]
    },
    {
      "cell_type": "code",
      "metadata": {
        "id": "BEB2MAH-LJNp",
        "outputId": "b54bd32e-5ba6-413c-d36b-2acddc501f0e",
        "colab": {
          "base_uri": "https://localhost:8080/",
          "height": 88
        }
      },
      "source": [
        "scores = linear_classifier(small_train_features, W, b)\n",
        "print(f\"Correct class {small_train_labels[first_misclassified_index].item()}, predicted class {scores[first_misclassified_index,:].argmax()}\")\n",
        "print(f\"Correct class score {scores[first_misclassified_index, small_train_labels[first_misclassified_index]].item():.3f}, predicted class score {scores[first_misclassified_index,:].max():.3f}\")\n",
        "scores[first_misclassified_index,:]"
      ],
      "execution_count": null,
      "outputs": [
        {
          "output_type": "stream",
          "text": [
            "Correct class 0, predicted class 9\n",
            "Correct class score -21.620, predicted class score 39.093\n"
          ],
          "name": "stdout"
        },
        {
          "output_type": "execute_result",
          "data": {
            "text/plain": [
              "tensor([-21.6198, -14.2640,  16.7861,   4.0014, -37.2333,  12.0552, -71.4922,\n",
              "          9.0663,  24.3931,  39.0931], grad_fn=<SliceBackward>)"
            ]
          },
          "metadata": {
            "tags": []
          },
          "execution_count": 22
        }
      ]
    },
    {
      "cell_type": "markdown",
      "metadata": {
        "id": "ln72W4F4M7JJ"
      },
      "source": [
        "It looks like the score associated to the real class is still very low compared to the (wrongly) predicted class. It will take gradient descent a long sequence of small steps to switch ranks of these scores. Do we really need the scores to be so large?How large are they on average?"
      ]
    },
    {
      "cell_type": "code",
      "metadata": {
        "id": "vqj35kQs0d41",
        "outputId": "930e9563-f414-476f-df21-7ed42a2b7e77",
        "colab": {
          "base_uri": "https://localhost:8080/",
          "height": 35
        }
      },
      "source": [
        "scores.abs().mean(dim=1).mean()"
      ],
      "execution_count": null,
      "outputs": [
        {
          "output_type": "execute_result",
          "data": {
            "text/plain": [
              "tensor(17.4143, grad_fn=<MeanBackward0>)"
            ]
          },
          "metadata": {
            "tags": []
          },
          "execution_count": 23
        }
      ]
    },
    {
      "cell_type": "markdown",
      "metadata": {
        "id": "tMdz8XWjEkcw"
      },
      "source": [
        "Why are they so large? The input pixels are always in $[0,1]$, so the magnitude of the scores depends only on the weights and baises.\n",
        "\n",
        "We sampled weights from a standard Gaussian, hence with zero mean. The magnitude of the weights is therefore proportional to the variance, which is 1. We will study this in more detail later in the course, but it makes intuitive sense that one way to have small scores is to start from smaller weights at initialization, hence to sample with a Gaussian with zero mean but smaller variance/standard deviation.\n",
        "\n",
        "Let's redefine the function `init` to accept a parameter `sigma`. We also set `requires_grad_=True` before returning the tensors."
      ]
    },
    {
      "cell_type": "code",
      "metadata": {
        "id": "-STPnxWsM6Ri",
        "outputId": "b5432659-f142-44b1-f52f-d4151de0657d",
        "colab": {
          "base_uri": "https://localhost:8080/",
          "height": 282
        }
      },
      "source": [
        "def init(sigma = 0.001):\n",
        "  W = torch.normal(0, sigma, (small_train_features.shape[1], len(classes)))\n",
        "  b = torch.zeros((len(classes)))\n",
        "  return W.requires_grad_(), b.requires_grad_()\n",
        "\n",
        "W, b = init()\n",
        "print(f\"Weight variance: {W.var().sqrt().item()}\")\n",
        "W, b"
      ],
      "execution_count": null,
      "outputs": [
        {
          "output_type": "stream",
          "text": [
            "Weight variance: 0.0009994901483878493\n"
          ],
          "name": "stdout"
        },
        {
          "output_type": "execute_result",
          "data": {
            "text/plain": [
              "(tensor([[ 1.4503e-03,  7.6307e-04,  2.0230e-03,  ...,  5.4341e-04,\n",
              "          -2.1671e-03,  9.1931e-04],\n",
              "         [-7.6967e-04, -7.5569e-05, -1.4158e-03,  ..., -6.2379e-04,\n",
              "          -6.6368e-04, -1.0241e-03],\n",
              "         [ 1.1066e-04, -1.0137e-03,  5.4236e-04,  ...,  4.0703e-04,\n",
              "          -4.3146e-04, -1.5288e-03],\n",
              "         ...,\n",
              "         [-7.4314e-04, -1.0468e-03, -5.4072e-04,  ..., -1.0468e-03,\n",
              "           1.6905e-04, -1.9700e-04],\n",
              "         [ 3.1364e-04,  6.9239e-04,  9.5061e-05,  ..., -9.0402e-04,\n",
              "           4.5499e-04,  1.2117e-03],\n",
              "         [ 1.2883e-04,  7.0464e-04, -1.1883e-03,  ..., -7.3394e-04,\n",
              "          -3.0402e-04, -1.1770e-03]], requires_grad=True),\n",
              " tensor([0., 0., 0., 0., 0., 0., 0., 0., 0., 0.], requires_grad=True))"
            ]
          },
          "metadata": {
            "tags": []
          },
          "execution_count": 24
        }
      ]
    },
    {
      "cell_type": "markdown",
      "metadata": {
        "id": "LlylDCoaz4q1"
      },
      "source": [
        "The exact value of $\\sigma$ is actually not really important for a simple linear classifier, you can try other sigmas smaller than 1. This value will be instead critical for deep neural networks.  Let's check how large are the scores now."
      ]
    },
    {
      "cell_type": "code",
      "metadata": {
        "id": "j1LyfUDhOfxI",
        "outputId": "35137f39-90fd-46d0-ac3b-bb2b6bec05d9",
        "colab": {
          "base_uri": "https://localhost:8080/",
          "height": 35
        }
      },
      "source": [
        "with torch.no_grad():\n",
        "  scores = linear_classifier(small_train_features, W, b)\n",
        "  print(scores.abs().mean(dim=1).mean())"
      ],
      "execution_count": null,
      "outputs": [
        {
          "output_type": "stream",
          "text": [
            "tensor(0.0265)\n"
          ],
          "name": "stdout"
        }
      ]
    },
    {
      "cell_type": "markdown",
      "metadata": {
        "id": "_X5pq-v6ZGxu"
      },
      "source": [
        "Let's see if this initialization improves the training. We also create a function putting together initialiation and training, to be ready to use it in a model selection loop."
      ]
    },
    {
      "cell_type": "code",
      "metadata": {
        "id": "q1BYl7S3PLMI",
        "outputId": "dd9edb9e-f252-42a0-bf58-a91762344f15",
        "colab": {
          "base_uri": "https://localhost:8080/",
          "height": 781
        }
      },
      "source": [
        "def train_linear_classifier(train_features, train_labels, epochs, lr, valid_features=None, valid_labels=None, verbose=False):\n",
        "  W,b = init()\n",
        "  best_valid_acc = 0\n",
        "  best_params = [W,b]\n",
        "  best_epoch = -1\n",
        "\n",
        "  for e in range(epochs):\n",
        "    scores = linear_classifier(train_features, W, b)\n",
        "    loss = F.cross_entropy(scores, train_labels)\n",
        "    acc = accuracy(scores, train_labels).item()\n",
        "    loss.backward()\n",
        "\n",
        "    with torch.no_grad():\n",
        "      \n",
        "      W -= lr * W.grad\n",
        "      b -= lr * b.grad\n",
        "\n",
        "      W.grad.zero_()\n",
        "      b.grad.zero_()\n",
        "\n",
        "      if valid_features is not None:\n",
        "        valid_scores = linear_classifier(valid_features, W, b)\n",
        "        valid_loss = F.cross_entropy(valid_scores, valid_labels).item()\n",
        "        valid_acc = accuracy(valid_scores, valid_labels).item()\n",
        "      \n",
        "      if valid_features is None or valid_acc > best_valid_acc:\n",
        "        best_valid_acc = valid_acc if valid_features is not None else 0\n",
        "        best_params = [W, b] \n",
        "        best_epoch = e\n",
        "\n",
        "      \n",
        "    if verbose and e % 50 == 0:\n",
        "      print(f\"Epoch {e}: train loss {loss:.3f} - train acc {acc:.3f}\" + (\"\" if valid_features is None else f\" - valid loss {valid_loss:.3f} - valid acc {valid_acc:.3f}\"))\n",
        "  \n",
        "  if verbose and valid_features is not None:\n",
        "    print(f\"Best epoch {best_epoch:.3f}, best acc {best_valid_acc:.3f}\")\n",
        "\n",
        "  return best_valid_acc, best_params, best_epoch\n",
        "\n",
        "epochs = 2000\n",
        "lr = 1e-3\n",
        "start=timer()\n",
        "_, final_params, _ = train_linear_classifier(small_train_features, small_train_labels, epochs=epochs, lr=lr, valid_features=small_valid_features, valid_labels=small_valid_labels,  verbose=True)\n",
        "end=timer()\n",
        "print(f\"Elapsed time (s): {end-start:.3f}\")"
      ],
      "execution_count": null,
      "outputs": [
        {
          "output_type": "stream",
          "text": [
            "Epoch 0: train loss 2.304 - train acc 0.110 - valid loss 2.301 - valid acc 0.090\n",
            "Epoch 50: train loss 2.228 - train acc 0.170 - valid loss 2.250 - valid acc 0.120\n",
            "Epoch 100: train loss 2.179 - train acc 0.252 - valid loss 2.214 - valid acc 0.160\n",
            "Epoch 150: train loss 2.138 - train acc 0.288 - valid loss 2.185 - valid acc 0.190\n",
            "Epoch 200: train loss 2.102 - train acc 0.316 - valid loss 2.160 - valid acc 0.210\n",
            "Epoch 250: train loss 2.071 - train acc 0.332 - valid loss 2.139 - valid acc 0.210\n",
            "Epoch 300: train loss 2.044 - train acc 0.342 - valid loss 2.120 - valid acc 0.220\n",
            "Epoch 350: train loss 2.019 - train acc 0.344 - valid loss 2.103 - valid acc 0.240\n",
            "Epoch 400: train loss 1.997 - train acc 0.360 - valid loss 2.089 - valid acc 0.230\n",
            "Epoch 450: train loss 1.976 - train acc 0.364 - valid loss 2.076 - valid acc 0.220\n",
            "Epoch 500: train loss 1.958 - train acc 0.380 - valid loss 2.064 - valid acc 0.230\n",
            "Epoch 550: train loss 1.940 - train acc 0.386 - valid loss 2.053 - valid acc 0.230\n",
            "Epoch 600: train loss 1.924 - train acc 0.392 - valid loss 2.043 - valid acc 0.230\n",
            "Epoch 650: train loss 1.909 - train acc 0.402 - valid loss 2.034 - valid acc 0.230\n",
            "Epoch 700: train loss 1.895 - train acc 0.416 - valid loss 2.026 - valid acc 0.230\n",
            "Epoch 750: train loss 1.881 - train acc 0.420 - valid loss 2.018 - valid acc 0.220\n",
            "Epoch 800: train loss 1.868 - train acc 0.432 - valid loss 2.011 - valid acc 0.230\n",
            "Epoch 850: train loss 1.856 - train acc 0.442 - valid loss 2.004 - valid acc 0.240\n",
            "Epoch 900: train loss 1.845 - train acc 0.448 - valid loss 1.998 - valid acc 0.240\n",
            "Epoch 950: train loss 1.834 - train acc 0.450 - valid loss 1.992 - valid acc 0.240\n",
            "Epoch 1000: train loss 1.823 - train acc 0.456 - valid loss 1.986 - valid acc 0.240\n",
            "Epoch 1050: train loss 1.813 - train acc 0.462 - valid loss 1.980 - valid acc 0.240\n",
            "Epoch 1100: train loss 1.803 - train acc 0.468 - valid loss 1.975 - valid acc 0.240\n",
            "Epoch 1150: train loss 1.793 - train acc 0.474 - valid loss 1.971 - valid acc 0.240\n",
            "Epoch 1200: train loss 1.784 - train acc 0.474 - valid loss 1.966 - valid acc 0.240\n",
            "Epoch 1250: train loss 1.775 - train acc 0.474 - valid loss 1.962 - valid acc 0.240\n",
            "Epoch 1300: train loss 1.766 - train acc 0.474 - valid loss 1.957 - valid acc 0.240\n",
            "Epoch 1350: train loss 1.757 - train acc 0.476 - valid loss 1.954 - valid acc 0.240\n",
            "Epoch 1400: train loss 1.749 - train acc 0.476 - valid loss 1.950 - valid acc 0.240\n",
            "Epoch 1450: train loss 1.741 - train acc 0.476 - valid loss 1.946 - valid acc 0.240\n",
            "Epoch 1500: train loss 1.733 - train acc 0.476 - valid loss 1.943 - valid acc 0.260\n",
            "Epoch 1550: train loss 1.726 - train acc 0.476 - valid loss 1.939 - valid acc 0.260\n",
            "Epoch 1600: train loss 1.718 - train acc 0.476 - valid loss 1.936 - valid acc 0.260\n",
            "Epoch 1650: train loss 1.711 - train acc 0.476 - valid loss 1.933 - valid acc 0.260\n",
            "Epoch 1700: train loss 1.704 - train acc 0.478 - valid loss 1.930 - valid acc 0.250\n",
            "Epoch 1750: train loss 1.697 - train acc 0.482 - valid loss 1.927 - valid acc 0.250\n",
            "Epoch 1800: train loss 1.690 - train acc 0.486 - valid loss 1.925 - valid acc 0.250\n",
            "Epoch 1850: train loss 1.683 - train acc 0.486 - valid loss 1.922 - valid acc 0.250\n",
            "Epoch 1900: train loss 1.676 - train acc 0.486 - valid loss 1.920 - valid acc 0.270\n",
            "Epoch 1950: train loss 1.670 - train acc 0.492 - valid loss 1.917 - valid acc 0.270\n",
            "Best epoch 1887.000, best acc 0.270\n",
            "Elapsed time (s): 10.416\n"
          ],
          "name": "stdout"
        }
      ]
    },
    {
      "cell_type": "markdown",
      "metadata": {
        "id": "r_XDFl9kGiw9"
      },
      "source": [
        "It does! Now we are getting reasonable loss values and validation accuracies comparable to what we were getting with the k-nn classifier (but investing way less time to achieve them). \n",
        "\n",
        "Let's check if the magnitude of the scores has remained small enough."
      ]
    },
    {
      "cell_type": "code",
      "metadata": {
        "id": "As4GDrGFlYyv",
        "outputId": "0ed7a241-5a06-416d-e8c5-8e578dc73c7a",
        "colab": {
          "base_uri": "https://localhost:8080/",
          "height": 35
        }
      },
      "source": [
        "with torch.no_grad():\n",
        "  scores = linear_classifier(small_train_features, final_params[0], final_params[1])\n",
        "  print(scores.abs().mean(dim=1).mean())"
      ],
      "execution_count": null,
      "outputs": [
        {
          "output_type": "stream",
          "text": [
            "tensor(0.6529)\n"
          ],
          "name": "stdout"
        }
      ]
    },
    {
      "cell_type": "markdown",
      "metadata": {
        "id": "MLos8Ju4HDQX"
      },
      "source": [
        "Looks so. To check the approximate constancy of statistics of the output and/or the parameters will be an important debugging/studying technique also when we will move to models more complex than linear classifiers.\n",
        "\n",
        "Let's create a function to run hyper-parameters tuning, then. The most important hyper-parameter is of course the learning rate. We will also keep track of the epoch at which we achieve the best validation accuracy, as training time can be thought of as an hyper-parameter influencing \"model complexity\": the more we train, the more we fit the training data.\n",
        "\n",
        "Since $0.001$ worked reasonably well above, I'll test it together with a few larger learning rates.  "
      ]
    },
    {
      "cell_type": "code",
      "metadata": {
        "id": "RMhXsyI0lMge",
        "outputId": "31d552e2-f88a-40d9-8415-3bbe7ddfc8e9",
        "colab": {
          "base_uri": "https://localhost:8080/",
          "height": 108
        }
      },
      "source": [
        "def hyperparameter_tuning(train_features, train_labels, valid_features, valid_labels, lrs= [1e-6 * 10**i for i in range(5)], epochs=1000):\n",
        "  \n",
        "  best_valid_acc = 0\n",
        "  best_params = []\n",
        "  best_hyper_params = []\n",
        "\n",
        "  for lr in lrs:\n",
        "    run_valid_acc, params, epoch = train_linear_classifier(train_features, train_labels, epochs=epochs, lr=lr, valid_features=valid_features, valid_labels=valid_labels, verbose=False)\n",
        "\n",
        "    if run_valid_acc > best_valid_acc:\n",
        "      best_valid_acc = run_valid_acc\n",
        "      best_params = params\n",
        "      best_hyper_params = [lr, epoch]\n",
        "      print(f\"Improved result: acc {best_valid_acc:.3f}, lr {lr}, epoch {epoch} \")\n",
        "  return best_hyper_params, best_params\n",
        "\n",
        "lrs = [1e-3, 3.3e-3, 1e-2, 3.3e-2]\n",
        "start=timer()\n",
        "best_hyper_params, best_params = hyperparameter_tuning(small_train_features, small_train_labels, small_valid_features, small_valid_labels, lrs)\n",
        "end=timer()\n",
        "print(f\"Elapsed time (s): {end-start:.3f}\")\n",
        "print(f\"best lr {best_hyper_params[0]}, best epoch {best_hyper_params[1]}\")"
      ],
      "execution_count": null,
      "outputs": [
        {
          "output_type": "stream",
          "text": [
            "Improved result: acc 0.240, lr 0.001, epoch 443 \n",
            "Improved result: acc 0.310, lr 0.0033, epoch 758 \n",
            "Improved result: acc 0.320, lr 0.033, epoch 260 \n",
            "Elapsed time (s): 15.166\n",
            "best lr 0.033, best epoch 260\n"
          ],
          "name": "stdout"
        }
      ]
    },
    {
      "cell_type": "markdown",
      "metadata": {
        "id": "Ze7xFIDeIaAf"
      },
      "source": [
        "Look likes we are getting reasonable values. We can now move to the full dataset."
      ]
    },
    {
      "cell_type": "code",
      "metadata": {
        "id": "zh2GW974ZIJp"
      },
      "source": [
        "train_features, train_labels = subset_to_matrix(actual_train_subds)\n",
        "valid_features, valid_labels = subset_to_matrix(valid_subds)\n",
        "test_features, test_labels = dataset_to_matrix(test_ds)"
      ],
      "execution_count": null,
      "outputs": []
    },
    {
      "cell_type": "markdown",
      "metadata": {
        "id": "_ET35E0RId4b"
      },
      "source": [
        "And run model selection on it."
      ]
    },
    {
      "cell_type": "code",
      "metadata": {
        "id": "bwDeBGSHZTlE",
        "outputId": "3af37ae8-4bbd-4738-febe-9cdc9a80a499",
        "colab": {
          "base_uri": "https://localhost:8080/",
          "height": 90
        }
      },
      "source": [
        "lrs = [1e-3, 3.3e-3, 1e-2]\n",
        "start=timer()\n",
        "best_hyper_params, best_params = hyperparameter_tuning(train_features, train_labels, valid_features, valid_labels, lrs)\n",
        "end=timer()\n",
        "print(f\"Elapsed time (s): {end-start:.3f}\")"
      ],
      "execution_count": null,
      "outputs": [
        {
          "output_type": "stream",
          "text": [
            "Improved result: acc 0.327, lr 0.001, epoch 993 \n",
            "Improved result: acc 0.367, lr 0.0033, epoch 930 \n",
            "Improved result: acc 0.389, lr 0.01, epoch 953 \n",
            "Elapsed time (s): 950.852\n"
          ],
          "name": "stdout"
        }
      ]
    },
    {
      "cell_type": "markdown",
      "metadata": {
        "id": "zpfPM54GJUM7"
      },
      "source": [
        "Now we can run training on the full training set, putting back into it the validation set. How long should we train? We do not have anymore a validation set to monitor to know when to stop. Here we will train for as many epochs as we trained to achieve the best validation accuracy during model selections. Other strategies are possible and we will discuss them in upcoming lessons."
      ]
    },
    {
      "cell_type": "code",
      "metadata": {
        "id": "GDEB_IsKp_rm"
      },
      "source": [
        "all_train_features = torch.cat((train_features, valid_features))\n",
        "all_train_labels = torch.cat((train_labels, valid_labels))\n",
        "best_lr, best_epoch = best_hyper_params[0], best_hyper_params[1]\n",
        "run_valid_acc, best_params, _ = train_linear_classifier(all_train_features, all_train_labels, epochs=best_epoch, lr=best_lr, verbose=False)"
      ],
      "execution_count": null,
      "outputs": []
    },
    {
      "cell_type": "markdown",
      "metadata": {
        "id": "-7GMRoMoJwXK"
      },
      "source": [
        "Finally, we can test the trained model on the full test set."
      ]
    },
    {
      "cell_type": "code",
      "metadata": {
        "id": "L34GNfdSPxS7",
        "outputId": "22ea685a-c18e-4e9f-dec8-e777e987d6cb",
        "colab": {
          "base_uri": "https://localhost:8080/",
          "height": 35
        }
      },
      "source": [
        "start = timer()\n",
        "test_scores = linear_classifier(test_features, best_params[0], best_params[1])\n",
        "end = timer()\n",
        "test_acc = accuracy(test_scores, test_labels)\n",
        "print(f\"Accuracy on full test set {test_acc:.3f}, elapsed time (s): {end-start:.3f}\")"
      ],
      "execution_count": null,
      "outputs": [
        {
          "output_type": "stream",
          "text": [
            "Accuracy on full test set 0.378, elapsed time (s): 0.028\n"
          ],
          "name": "stdout"
        }
      ]
    },
    {
      "cell_type": "markdown",
      "metadata": {
        "id": "ehJd1KxjKChU"
      },
      "source": [
        "We obtain similar test accuracy than k-nn, in a fraction of a second. Training is still slow for a small dataset like CIFAR-10. We will address this shortcoming in the next lesson.\n",
        "\n",
        "What do the best parameters look like? We can collect statistics to describe them, but in the spirit of our \"always look at the data\" mantra, we can try to get a visualization of them. \n",
        "\n",
        "To compute the score $s_j$, we multiply the input image for the $j$-th column of $W$, which is of size $3072 \\times 1$. To visualize it as an image, we have to\n",
        " \n",
        "1.   bring the values back in the range $[0,1]$ (recall that weights can assume any value during training). One simple way to do so is to subtract the minimum and the divide by the maximum of the resulting tensor.\n",
        "\n",
        "2.   \"Unflatten\" the column, bringing it back to the shape of the input images, i.e. $3 \\times 32 \\times 32$. \n",
        " \n",
        "\n",
        "In the following cell, we perform these operations for all the rows at once. "
      ]
    },
    {
      "cell_type": "code",
      "metadata": {
        "id": "xmWzJypEaDv_",
        "outputId": "148d074f-48df-48bc-938c-9b18762257ff",
        "colab": {
          "base_uri": "https://localhost:8080/",
          "height": 35
        }
      },
      "source": [
        "best_templates = best_params[0].detach().clone()\n",
        "best_templates -= best_templates.min(0, keepdim=True)[0]\n",
        "best_templates /= best_templates.max(0, keepdim=True)[0]\n",
        "best_templates = best_templates.reshape(3,32,32,10)\n",
        "best_templates.shape"
      ],
      "execution_count": null,
      "outputs": [
        {
          "output_type": "execute_result",
          "data": {
            "text/plain": [
              "torch.Size([3, 32, 32, 10])"
            ]
          },
          "metadata": {
            "tags": []
          },
          "execution_count": 33
        }
      ]
    },
    {
      "cell_type": "markdown",
      "metadata": {
        "id": "ST_bZ48WL3sC"
      },
      "source": [
        "We can now define our usual `show` function and visualize the \"template\" for the class *horse*. Depending on your training hyper-parameters you can obtain smooth or noisy results."
      ]
    },
    {
      "cell_type": "code",
      "metadata": {
        "id": "_vFOewxHeC0j"
      },
      "source": [
        "%matplotlib inline\n",
        "def show(img):\n",
        "    npimg = img.numpy()\n",
        "    plt.imshow(np.transpose(npimg, (1,2,0)))\n",
        "    plt.axis('off')"
      ],
      "execution_count": null,
      "outputs": []
    },
    {
      "cell_type": "code",
      "metadata": {
        "id": "_1gYPtp7fHe5",
        "outputId": "d0996dd2-8f94-4ead-9de3-180b0cc7eccb",
        "colab": {
          "base_uri": "https://localhost:8080/",
          "height": 248
        }
      },
      "source": [
        "show(best_templates[:, :, :, 7])"
      ],
      "execution_count": null,
      "outputs": [
        {
          "output_type": "display_data",
          "data": {
            "image/png": "[encoded data removed]",
            "text/plain": [
              "<Figure size 432x288 with 1 Axes>"
            ]
          },
          "metadata": {
            "tags": [],
            "needs_background": "light"
          }
        }
      ]
    },
    {
      "cell_type": "markdown",
      "metadata": {
        "id": "97XBCGMZL-Q2"
      },
      "source": [
        "And then visualize all of them."
      ]
    },
    {
      "cell_type": "code",
      "metadata": {
        "id": "8go06pDUzDuZ",
        "outputId": "4c1a17a5-1ea5-446e-b635-bf750ca0a518",
        "colab": {
          "base_uri": "https://localhost:8080/",
          "height": 214
        }
      },
      "source": [
        "def show_templates(best_templates):\n",
        "  n_classes = 10\n",
        "  for i in range(n_classes):\n",
        "    plt.subplot(2, n_classes/2, i+1)\n",
        "    show(best_templates[:, :, :, i])\n",
        "    plt.title(classes[i])\n",
        "  plt.subplots_adjust(hspace = 0.02) \n",
        "show_templates(best_templates)"
      ],
      "execution_count": null,
      "outputs": [
        {
          "output_type": "display_data",
          "data": {
            "image/png": "[encoded data removed]",
            "text/plain": [
              "<Figure size 432x288 with 10 Axes>"
            ]
          },
          "metadata": {
            "tags": [],
            "needs_background": "light"
          }
        }
      ]
    },
    {
      "cell_type": "markdown",
      "metadata": {
        "id": "f72F1lr5V3Th"
      },
      "source": [
        "# That's all, folks"
      ]
    }
  ]
}